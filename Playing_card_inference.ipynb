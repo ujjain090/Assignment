{
 "cells": [
  {
   "cell_type": "markdown",
   "metadata": {
    "id": "sL9joc6wwvbO"
   },
   "source": [
    "# **Model Details**\n",
    "\n",
    "\n",
    "*   Number of class: 1\n",
    "*   Class_name: playing_card\n",
    "*   Algorithm: Yolov5\n",
    "*   Result of every Run will saved inside **code\\runs\\detect\\exp[num]**\n",
    "\n",
    "\n",
    "\n",
    "\n",
    "**Note-** Due to lack of data only able to annotate data with one class\n"
   ]
  },
  {
   "cell_type": "markdown",
   "metadata": {
    "id": "tbOaZMzOwV87"
   },
   "source": [
    "# **Setup**\n",
    "Creating environments and importing libraries"
   ]
  },
  {
   "cell_type": "code",
   "execution_count": 27,
   "metadata": {
    "colab": {
     "base_uri": "https://localhost:8080/"
    },
    "executionInfo": {
     "elapsed": 6001,
     "status": "ok",
     "timestamp": 1650952738832,
     "user": {
      "displayName": "Sonu Singh Rajput",
      "userId": "17379905912176944021"
     },
     "user_tz": -330
    },
    "id": "wbvMlHd_QwMG",
    "outputId": "7a4d6007-8549-435e-bd86-bce6e08af15b"
   },
   "outputs": [
    {
     "name": "stderr",
     "output_type": "stream",
     "text": [
      "YOLOv5  v6.1-164-g177da7f torch 1.11.0+cpu CPU\n",
      "\n",
      "Fusing layers... \n",
      "Model summary: 213 layers, 7012822 parameters, 0 gradients, 15.8 GFLOPs\n",
      "image 1/67 D:\\PrS\\Repo_Sonu\\Assignment\\code\\images\\IMG_2383.JPG: 640x480 1 playing_card, Done. (0.138s)\n",
      "image 2/67 D:\\PrS\\Repo_Sonu\\Assignment\\code\\images\\IMG_2384.JPG: 640x480 1 playing_card, Done. (0.151s)\n",
      "image 3/67 D:\\PrS\\Repo_Sonu\\Assignment\\code\\images\\IMG_2387.JPG: 640x480 1 playing_card, Done. (0.133s)\n",
      "image 4/67 D:\\PrS\\Repo_Sonu\\Assignment\\code\\images\\IMG_2391.JPG: 640x480 1 playing_card, Done. (0.150s)\n",
      "image 5/67 D:\\PrS\\Repo_Sonu\\Assignment\\code\\images\\IMG_2395.JPG: 640x480 1 playing_card, Done. (0.149s)\n",
      "image 6/67 D:\\PrS\\Repo_Sonu\\Assignment\\code\\images\\IMG_2403.JPG: 640x480 1 playing_card, Done. (0.139s)\n",
      "image 7/67 D:\\PrS\\Repo_Sonu\\Assignment\\code\\images\\IMG_2432.JPG: 640x480 1 playing_card, Done. (0.143s)\n",
      "image 8/67 D:\\PrS\\Repo_Sonu\\Assignment\\code\\images\\IMG_2433.JPG: 640x480 1 playing_card, Done. (0.134s)\n",
      "image 9/67 D:\\PrS\\Repo_Sonu\\Assignment\\code\\images\\IMG_2435.JPG: 640x480 1 playing_card, Done. (0.150s)\n",
      "image 10/67 D:\\PrS\\Repo_Sonu\\Assignment\\code\\images\\IMG_2436.JPG: 640x480 1 playing_card, Done. (0.136s)\n",
      "image 11/67 D:\\PrS\\Repo_Sonu\\Assignment\\code\\images\\IMG_2440.JPG: 640x480 1 playing_card, Done. (0.149s)\n",
      "image 12/67 D:\\PrS\\Repo_Sonu\\Assignment\\code\\images\\IMG_2461.JPG: 640x480 1 playing_card, Done. (0.135s)\n",
      "image 13/67 D:\\PrS\\Repo_Sonu\\Assignment\\code\\images\\IMG_2463.JPG: 640x480 1 playing_card, Done. (0.143s)\n",
      "image 14/67 D:\\PrS\\Repo_Sonu\\Assignment\\code\\images\\IMG_2470.JPG: 640x480 1 playing_card, Done. (0.132s)\n",
      "image 15/67 D:\\PrS\\Repo_Sonu\\Assignment\\code\\images\\IMG_2476.JPG: 640x480 1 playing_card, Done. (0.139s)\n",
      "image 16/67 D:\\PrS\\Repo_Sonu\\Assignment\\code\\images\\IMG_2479.JPG: 640x480 1 playing_card, Done. (0.157s)\n",
      "image 17/67 D:\\PrS\\Repo_Sonu\\Assignment\\code\\images\\IMG_2482.JPG: 640x480 1 playing_card, Done. (0.139s)\n",
      "image 18/67 D:\\PrS\\Repo_Sonu\\Assignment\\code\\images\\IMG_2485.JPG: 640x480 1 playing_card, Done. (0.147s)\n",
      "image 19/67 D:\\PrS\\Repo_Sonu\\Assignment\\code\\images\\IMG_2510.JPG: 640x480 1 playing_card, Done. (0.133s)\n",
      "image 20/67 D:\\PrS\\Repo_Sonu\\Assignment\\code\\images\\IMG_2530.JPG: 640x480 1 playing_card, Done. (0.131s)\n",
      "image 21/67 D:\\PrS\\Repo_Sonu\\Assignment\\code\\images\\IMG_2531.JPG: 640x480 1 playing_card, Done. (0.131s)\n",
      "image 22/67 D:\\PrS\\Repo_Sonu\\Assignment\\code\\images\\IMG_2532.JPG: 640x480 1 playing_card, Done. (0.138s)\n",
      "image 23/67 D:\\PrS\\Repo_Sonu\\Assignment\\code\\images\\IMG_2539.JPG: 640x480 1 playing_card, Done. (0.132s)\n",
      "image 24/67 D:\\PrS\\Repo_Sonu\\Assignment\\code\\images\\IMG_2540.JPG: 640x480 1 playing_card, Done. (0.137s)\n",
      "image 25/67 D:\\PrS\\Repo_Sonu\\Assignment\\code\\images\\IMG_2544.JPG: 640x480 1 playing_card, Done. (0.134s)\n",
      "image 26/67 D:\\PrS\\Repo_Sonu\\Assignment\\code\\images\\IMG_2550.JPG: 640x480 1 playing_card, Done. (0.140s)\n",
      "image 27/67 D:\\PrS\\Repo_Sonu\\Assignment\\code\\images\\IMG_2551.JPG: 640x480 1 playing_card, Done. (0.176s)\n",
      "image 28/67 D:\\PrS\\Repo_Sonu\\Assignment\\code\\images\\IMG_2554.JPG: 640x480 1 playing_card, Done. (0.138s)\n",
      "image 29/67 D:\\PrS\\Repo_Sonu\\Assignment\\code\\images\\IMG_2555.JPG: 640x480 1 playing_card, Done. (0.146s)\n",
      "image 30/67 D:\\PrS\\Repo_Sonu\\Assignment\\code\\images\\IMG_2557.JPG: 640x480 1 playing_card, Done. (0.191s)\n",
      "image 31/67 D:\\PrS\\Repo_Sonu\\Assignment\\code\\images\\IMG_2560.JPG: 640x480 4 playing_cards, Done. (0.130s)\n",
      "image 32/67 D:\\PrS\\Repo_Sonu\\Assignment\\code\\images\\IMG_2561.JPG: 640x480 4 playing_cards, Done. (0.141s)\n",
      "image 33/67 D:\\PrS\\Repo_Sonu\\Assignment\\code\\images\\IMG_2564.JPG: 640x480 4 playing_cards, Done. (0.127s)\n",
      "image 34/67 D:\\PrS\\Repo_Sonu\\Assignment\\code\\images\\IMG_2568.JPG: 640x480 2 playing_cards, Done. (0.140s)\n",
      "image 35/67 D:\\PrS\\Repo_Sonu\\Assignment\\code\\images\\IMG_2571.JPG: 640x480 3 playing_cards, Done. (0.119s)\n",
      "image 36/67 D:\\PrS\\Repo_Sonu\\Assignment\\code\\images\\IMG_2573.JPG: 640x480 4 playing_cards, Done. (0.125s)\n",
      "image 37/67 D:\\PrS\\Repo_Sonu\\Assignment\\code\\images\\IMG_2580.JPG: 640x480 4 playing_cards, Done. (0.129s)\n",
      "image 38/67 D:\\PrS\\Repo_Sonu\\Assignment\\code\\images\\IMG_2583.JPG: 640x480 4 playing_cards, Done. (0.142s)\n",
      "image 39/67 D:\\PrS\\Repo_Sonu\\Assignment\\code\\images\\IMG_2585.JPG: 640x480 4 playing_cards, Done. (0.147s)\n",
      "image 40/67 D:\\PrS\\Repo_Sonu\\Assignment\\code\\images\\IMG_2591.JPG: 640x480 4 playing_cards, Done. (0.151s)\n",
      "image 41/67 D:\\PrS\\Repo_Sonu\\Assignment\\code\\images\\IMG_2592.JPG: 640x480 4 playing_cards, Done. (0.172s)\n",
      "image 42/67 D:\\PrS\\Repo_Sonu\\Assignment\\code\\images\\IMG_2594.JPG: 640x480 4 playing_cards, Done. (0.166s)\n",
      "image 43/67 D:\\PrS\\Repo_Sonu\\Assignment\\code\\images\\IMG_2595.JPG: 640x480 2 playing_cards, Done. (0.160s)\n",
      "image 44/67 D:\\PrS\\Repo_Sonu\\Assignment\\code\\images\\IMG_2598.JPG: 640x480 2 playing_cards, Done. (0.138s)\n",
      "image 45/67 D:\\PrS\\Repo_Sonu\\Assignment\\code\\images\\IMG_2600.JPG: 640x480 3 playing_cards, Done. (0.150s)\n",
      "image 46/67 D:\\PrS\\Repo_Sonu\\Assignment\\code\\images\\IMG_2604.JPG: 640x480 2 playing_cards, Done. (0.145s)\n",
      "image 47/67 D:\\PrS\\Repo_Sonu\\Assignment\\code\\images\\IMG_2634.JPG: 640x480 2 playing_cards, Done. (0.212s)\n",
      "image 48/67 D:\\PrS\\Repo_Sonu\\Assignment\\code\\images\\IMG_2636.JPG: 640x480 2 playing_cards, Done. (0.149s)\n",
      "image 49/67 D:\\PrS\\Repo_Sonu\\Assignment\\code\\images\\IMG_2639.JPG: 640x480 2 playing_cards, Done. (0.146s)\n",
      "image 50/67 D:\\PrS\\Repo_Sonu\\Assignment\\code\\images\\IMG_2640.JPG: 640x480 2 playing_cards, Done. (0.163s)\n",
      "image 51/67 D:\\PrS\\Repo_Sonu\\Assignment\\code\\images\\IMG_2647.JPG: 640x480 2 playing_cards, Done. (0.183s)\n",
      "image 52/67 D:\\PrS\\Repo_Sonu\\Assignment\\code\\images\\IMG_2651.JPG: 640x480 2 playing_cards, Done. (0.182s)\n",
      "image 53/67 D:\\PrS\\Repo_Sonu\\Assignment\\code\\images\\IMG_2654.JPG: 640x480 2 playing_cards, Done. (0.172s)\n",
      "image 54/67 D:\\PrS\\Repo_Sonu\\Assignment\\code\\images\\IMG_2656.JPG: 640x480 3 playing_cards, Done. (0.181s)\n",
      "image 55/67 D:\\PrS\\Repo_Sonu\\Assignment\\code\\images\\IMG_2662.JPG: 640x480 2 playing_cards, Done. (0.190s)\n",
      "image 56/67 D:\\PrS\\Repo_Sonu\\Assignment\\code\\images\\IMG_2670.JPG: 640x480 2 playing_cards, Done. (0.190s)\n",
      "image 57/67 D:\\PrS\\Repo_Sonu\\Assignment\\code\\images\\IMG_2675.JPG: 640x480 4 playing_cards, Done. (0.181s)\n",
      "image 58/67 D:\\PrS\\Repo_Sonu\\Assignment\\code\\images\\IMG_2677.JPG: 640x480 2 playing_cards, Done. (0.147s)\n",
      "image 59/67 D:\\PrS\\Repo_Sonu\\Assignment\\code\\images\\IMG_2678.JPG: 640x480 2 playing_cards, Done. (0.145s)\n",
      "image 60/67 D:\\PrS\\Repo_Sonu\\Assignment\\code\\images\\IMG_2686.JPG: 640x480 2 playing_cards, Done. (0.138s)\n",
      "image 61/67 D:\\PrS\\Repo_Sonu\\Assignment\\code\\images\\cam_image2.jpg: 384x640 4 playing_cards, Done. (0.108s)\n",
      "image 62/67 D:\\PrS\\Repo_Sonu\\Assignment\\code\\images\\cam_image4.jpg: 384x640 4 playing_cards, Done. (0.105s)\n",
      "image 63/67 D:\\PrS\\Repo_Sonu\\Assignment\\code\\images\\cam_image45.jpg: 384x640 4 playing_cards, Done. (0.108s)\n",
      "image 64/67 D:\\PrS\\Repo_Sonu\\Assignment\\code\\images\\cam_image5.jpg: 384x640 4 playing_cards, Done. (0.108s)\n",
      "image 65/67 D:\\PrS\\Repo_Sonu\\Assignment\\code\\images\\cam_image6.jpg: 384x640 4 playing_cards, Done. (0.104s)\n",
      "image 66/67 D:\\PrS\\Repo_Sonu\\Assignment\\code\\images\\cam_image7.jpg: 384x640 4 playing_cards, Done. (0.101s)\n",
      "image 67/67 D:\\PrS\\Repo_Sonu\\Assignment\\code\\images\\cam_image8.jpg: 384x640 4 playing_cards, Done. (0.115s)\n",
      "Speed: 1.2ms pre-process, 144.7ms inference, 0.5ms NMS per image at shape (1, 3, 640, 640)\n",
      "Results saved to \u001b[1mruns\\detect\\exp\u001b[0m\n"
     ]
    }
   ],
   "source": [
    "# Setup\n",
    "%cd code\n",
    "!pip install -r requirements.txt\n",
    "\n",
    "# Importing Libraries\n",
    "from detect import run\n",
    "import torch\n",
    "import utils\n",
    "\n",
    "# Running Infrence via image dir\n",
    "weights_path=\"weights.pt\" # Weight path\n",
    "source=r\"images\" # Image or Image Dir or Video Path\n",
    "# source=\"output_video.avi\" # Image or Image Dir or Video Path\n",
    "conf_thres=0.7 # Confidence threshold for filter\n",
    "run(weights_path,source,conf_thres=conf_thres)\n",
    "# print(save_dir)\n",
    "\n",
    "# Running Infrence for Video"
   ]
  },
  {
   "cell_type": "code",
   "execution_count": 28,
   "metadata": {},
   "outputs": [
    {
     "name": "stderr",
     "output_type": "stream",
     "text": [
      "YOLOv5  v6.1-164-g177da7f torch 1.11.0+cpu CPU\n",
      "\n",
      "Fusing layers... \n",
      "Model summary: 213 layers, 7012822 parameters, 0 gradients, 15.8 GFLOPs\n",
      "video 1/1 (1/90) D:\\PrS\\Repo_Sonu\\Assignment\\code\\output_video.avi: 640x640 2 playing_cards, Done. (0.188s)\n",
      "video 1/1 (2/90) D:\\PrS\\Repo_Sonu\\Assignment\\code\\output_video.avi: 640x640 2 playing_cards, Done. (0.178s)\n",
      "video 1/1 (3/90) D:\\PrS\\Repo_Sonu\\Assignment\\code\\output_video.avi: 640x640 2 playing_cards, Done. (0.177s)\n",
      "video 1/1 (4/90) D:\\PrS\\Repo_Sonu\\Assignment\\code\\output_video.avi: 640x640 2 playing_cards, Done. (0.167s)\n",
      "video 1/1 (5/90) D:\\PrS\\Repo_Sonu\\Assignment\\code\\output_video.avi: 640x640 2 playing_cards, Done. (0.183s)\n",
      "video 1/1 (6/90) D:\\PrS\\Repo_Sonu\\Assignment\\code\\output_video.avi: 640x640 2 playing_cards, Done. (0.178s)\n",
      "video 1/1 (7/90) D:\\PrS\\Repo_Sonu\\Assignment\\code\\output_video.avi: 640x640 2 playing_cards, Done. (0.167s)\n",
      "video 1/1 (8/90) D:\\PrS\\Repo_Sonu\\Assignment\\code\\output_video.avi: 640x640 2 playing_cards, Done. (0.186s)\n",
      "video 1/1 (9/90) D:\\PrS\\Repo_Sonu\\Assignment\\code\\output_video.avi: 640x640 2 playing_cards, Done. (0.160s)\n",
      "video 1/1 (10/90) D:\\PrS\\Repo_Sonu\\Assignment\\code\\output_video.avi: 640x640 2 playing_cards, Done. (0.187s)\n",
      "video 1/1 (11/90) D:\\PrS\\Repo_Sonu\\Assignment\\code\\output_video.avi: 640x640 2 playing_cards, Done. (0.251s)\n",
      "video 1/1 (12/90) D:\\PrS\\Repo_Sonu\\Assignment\\code\\output_video.avi: 640x640 2 playing_cards, Done. (0.177s)\n",
      "video 1/1 (13/90) D:\\PrS\\Repo_Sonu\\Assignment\\code\\output_video.avi: 640x640 2 playing_cards, Done. (0.221s)\n",
      "video 1/1 (14/90) D:\\PrS\\Repo_Sonu\\Assignment\\code\\output_video.avi: 640x640 Done. (0.182s)\n",
      "video 1/1 (15/90) D:\\PrS\\Repo_Sonu\\Assignment\\code\\output_video.avi: 640x640 1 playing_card, Done. (0.227s)\n",
      "video 1/1 (16/90) D:\\PrS\\Repo_Sonu\\Assignment\\code\\output_video.avi: 640x640 2 playing_cards, Done. (0.227s)\n",
      "video 1/1 (17/90) D:\\PrS\\Repo_Sonu\\Assignment\\code\\output_video.avi: 640x640 2 playing_cards, Done. (0.203s)\n",
      "video 1/1 (18/90) D:\\PrS\\Repo_Sonu\\Assignment\\code\\output_video.avi: 640x640 2 playing_cards, Done. (0.187s)\n",
      "video 1/1 (19/90) D:\\PrS\\Repo_Sonu\\Assignment\\code\\output_video.avi: 640x640 1 playing_card, Done. (0.223s)\n",
      "video 1/1 (20/90) D:\\PrS\\Repo_Sonu\\Assignment\\code\\output_video.avi: 640x640 2 playing_cards, Done. (0.183s)\n",
      "video 1/1 (21/90) D:\\PrS\\Repo_Sonu\\Assignment\\code\\output_video.avi: 640x640 2 playing_cards, Done. (0.205s)\n",
      "video 1/1 (22/90) D:\\PrS\\Repo_Sonu\\Assignment\\code\\output_video.avi: 640x640 2 playing_cards, Done. (0.187s)\n",
      "video 1/1 (23/90) D:\\PrS\\Repo_Sonu\\Assignment\\code\\output_video.avi: 640x640 2 playing_cards, Done. (0.163s)\n",
      "video 1/1 (24/90) D:\\PrS\\Repo_Sonu\\Assignment\\code\\output_video.avi: 640x640 2 playing_cards, Done. (0.226s)\n",
      "video 1/1 (25/90) D:\\PrS\\Repo_Sonu\\Assignment\\code\\output_video.avi: 640x640 2 playing_cards, Done. (0.292s)\n",
      "video 1/1 (26/90) D:\\PrS\\Repo_Sonu\\Assignment\\code\\output_video.avi: 640x640 2 playing_cards, Done. (0.234s)\n",
      "video 1/1 (27/90) D:\\PrS\\Repo_Sonu\\Assignment\\code\\output_video.avi: 640x640 2 playing_cards, Done. (0.245s)\n",
      "video 1/1 (28/90) D:\\PrS\\Repo_Sonu\\Assignment\\code\\output_video.avi: 640x640 2 playing_cards, Done. (0.239s)\n",
      "video 1/1 (29/90) D:\\PrS\\Repo_Sonu\\Assignment\\code\\output_video.avi: 640x640 2 playing_cards, Done. (0.186s)\n",
      "video 1/1 (30/90) D:\\PrS\\Repo_Sonu\\Assignment\\code\\output_video.avi: 640x640 2 playing_cards, Done. (0.179s)\n",
      "video 1/1 (31/90) D:\\PrS\\Repo_Sonu\\Assignment\\code\\output_video.avi: 640x640 2 playing_cards, Done. (0.208s)\n",
      "video 1/1 (32/90) D:\\PrS\\Repo_Sonu\\Assignment\\code\\output_video.avi: 640x640 2 playing_cards, Done. (0.230s)\n",
      "video 1/1 (33/90) D:\\PrS\\Repo_Sonu\\Assignment\\code\\output_video.avi: 640x640 2 playing_cards, Done. (0.225s)\n",
      "video 1/1 (34/90) D:\\PrS\\Repo_Sonu\\Assignment\\code\\output_video.avi: 640x640 2 playing_cards, Done. (0.207s)\n",
      "video 1/1 (35/90) D:\\PrS\\Repo_Sonu\\Assignment\\code\\output_video.avi: 640x640 2 playing_cards, Done. (0.217s)\n",
      "video 1/1 (36/90) D:\\PrS\\Repo_Sonu\\Assignment\\code\\output_video.avi: 640x640 2 playing_cards, Done. (0.183s)\n",
      "video 1/1 (37/90) D:\\PrS\\Repo_Sonu\\Assignment\\code\\output_video.avi: 640x640 2 playing_cards, Done. (0.179s)\n",
      "video 1/1 (38/90) D:\\PrS\\Repo_Sonu\\Assignment\\code\\output_video.avi: 640x640 2 playing_cards, Done. (0.176s)\n",
      "video 1/1 (39/90) D:\\PrS\\Repo_Sonu\\Assignment\\code\\output_video.avi: 640x640 2 playing_cards, Done. (0.168s)\n",
      "video 1/1 (40/90) D:\\PrS\\Repo_Sonu\\Assignment\\code\\output_video.avi: 640x640 2 playing_cards, Done. (0.181s)\n",
      "video 1/1 (41/90) D:\\PrS\\Repo_Sonu\\Assignment\\code\\output_video.avi: 640x640 2 playing_cards, Done. (0.181s)\n",
      "video 1/1 (42/90) D:\\PrS\\Repo_Sonu\\Assignment\\code\\output_video.avi: 640x640 2 playing_cards, Done. (0.187s)\n",
      "video 1/1 (43/90) D:\\PrS\\Repo_Sonu\\Assignment\\code\\output_video.avi: 640x640 2 playing_cards, Done. (0.176s)\n",
      "video 1/1 (44/90) D:\\PrS\\Repo_Sonu\\Assignment\\code\\output_video.avi: 640x640 2 playing_cards, Done. (0.183s)\n",
      "video 1/1 (45/90) D:\\PrS\\Repo_Sonu\\Assignment\\code\\output_video.avi: 640x640 2 playing_cards, Done. (0.179s)\n",
      "video 1/1 (46/90) D:\\PrS\\Repo_Sonu\\Assignment\\code\\output_video.avi: 640x640 2 playing_cards, Done. (0.205s)\n",
      "video 1/1 (47/90) D:\\PrS\\Repo_Sonu\\Assignment\\code\\output_video.avi: 640x640 2 playing_cards, Done. (0.253s)\n",
      "video 1/1 (48/90) D:\\PrS\\Repo_Sonu\\Assignment\\code\\output_video.avi: 640x640 1 playing_card, Done. (0.207s)\n",
      "video 1/1 (49/90) D:\\PrS\\Repo_Sonu\\Assignment\\code\\output_video.avi: 640x640 2 playing_cards, Done. (0.174s)\n",
      "video 1/1 (50/90) D:\\PrS\\Repo_Sonu\\Assignment\\code\\output_video.avi: 640x640 2 playing_cards, Done. (0.171s)\n",
      "video 1/1 (51/90) D:\\PrS\\Repo_Sonu\\Assignment\\code\\output_video.avi: 640x640 2 playing_cards, Done. (0.183s)\n",
      "video 1/1 (52/90) D:\\PrS\\Repo_Sonu\\Assignment\\code\\output_video.avi: 640x640 2 playing_cards, Done. (0.191s)\n",
      "video 1/1 (53/90) D:\\PrS\\Repo_Sonu\\Assignment\\code\\output_video.avi: 640x640 2 playing_cards, Done. (0.184s)\n",
      "video 1/1 (54/90) D:\\PrS\\Repo_Sonu\\Assignment\\code\\output_video.avi: 640x640 2 playing_cards, Done. (0.180s)\n",
      "video 1/1 (55/90) D:\\PrS\\Repo_Sonu\\Assignment\\code\\output_video.avi: 640x640 2 playing_cards, Done. (0.179s)\n",
      "video 1/1 (56/90) D:\\PrS\\Repo_Sonu\\Assignment\\code\\output_video.avi: 640x640 2 playing_cards, Done. (0.222s)\n",
      "video 1/1 (57/90) D:\\PrS\\Repo_Sonu\\Assignment\\code\\output_video.avi: 640x640 2 playing_cards, Done. (0.275s)\n",
      "video 1/1 (58/90) D:\\PrS\\Repo_Sonu\\Assignment\\code\\output_video.avi: 640x640 2 playing_cards, Done. (0.195s)\n",
      "video 1/1 (59/90) D:\\PrS\\Repo_Sonu\\Assignment\\code\\output_video.avi: 640x640 2 playing_cards, Done. (0.177s)\n",
      "video 1/1 (60/90) D:\\PrS\\Repo_Sonu\\Assignment\\code\\output_video.avi: 640x640 2 playing_cards, Done. (0.161s)\n",
      "video 1/1 (61/90) D:\\PrS\\Repo_Sonu\\Assignment\\code\\output_video.avi: 640x640 2 playing_cards, Done. (0.180s)\n",
      "video 1/1 (62/90) D:\\PrS\\Repo_Sonu\\Assignment\\code\\output_video.avi: 640x640 2 playing_cards, Done. (0.206s)\n",
      "video 1/1 (63/90) D:\\PrS\\Repo_Sonu\\Assignment\\code\\output_video.avi: 640x640 2 playing_cards, Done. (0.170s)\n",
      "video 1/1 (64/90) D:\\PrS\\Repo_Sonu\\Assignment\\code\\output_video.avi: 640x640 2 playing_cards, Done. (0.190s)\n",
      "video 1/1 (65/90) D:\\PrS\\Repo_Sonu\\Assignment\\code\\output_video.avi: 640x640 2 playing_cards, Done. (0.168s)\n",
      "video 1/1 (66/90) D:\\PrS\\Repo_Sonu\\Assignment\\code\\output_video.avi: 640x640 2 playing_cards, Done. (0.182s)\n",
      "video 1/1 (67/90) D:\\PrS\\Repo_Sonu\\Assignment\\code\\output_video.avi: 640x640 2 playing_cards, Done. (0.200s)\n",
      "video 1/1 (68/90) D:\\PrS\\Repo_Sonu\\Assignment\\code\\output_video.avi: 640x640 2 playing_cards, Done. (0.186s)\n",
      "video 1/1 (69/90) D:\\PrS\\Repo_Sonu\\Assignment\\code\\output_video.avi: 640x640 2 playing_cards, Done. (0.192s)\n",
      "video 1/1 (70/90) D:\\PrS\\Repo_Sonu\\Assignment\\code\\output_video.avi: 640x640 1 playing_card, Done. (0.177s)\n",
      "video 1/1 (71/90) D:\\PrS\\Repo_Sonu\\Assignment\\code\\output_video.avi: 640x640 2 playing_cards, Done. (0.175s)\n",
      "video 1/1 (72/90) D:\\PrS\\Repo_Sonu\\Assignment\\code\\output_video.avi: 640x640 2 playing_cards, Done. (0.192s)\n",
      "video 1/1 (73/90) D:\\PrS\\Repo_Sonu\\Assignment\\code\\output_video.avi: 640x640 1 playing_card, Done. (0.185s)\n",
      "video 1/1 (74/90) D:\\PrS\\Repo_Sonu\\Assignment\\code\\output_video.avi: 640x640 2 playing_cards, Done. (0.165s)\n",
      "video 1/1 (75/90) D:\\PrS\\Repo_Sonu\\Assignment\\code\\output_video.avi: 640x640 2 playing_cards, Done. (0.179s)\n",
      "video 1/1 (76/90) D:\\PrS\\Repo_Sonu\\Assignment\\code\\output_video.avi: 640x640 2 playing_cards, Done. (0.178s)\n",
      "video 1/1 (77/90) D:\\PrS\\Repo_Sonu\\Assignment\\code\\output_video.avi: 640x640 2 playing_cards, Done. (0.186s)\n",
      "video 1/1 (78/90) D:\\PrS\\Repo_Sonu\\Assignment\\code\\output_video.avi: 640x640 2 playing_cards, Done. (0.182s)\n",
      "video 1/1 (79/90) D:\\PrS\\Repo_Sonu\\Assignment\\code\\output_video.avi: 640x640 2 playing_cards, Done. (0.214s)\n",
      "video 1/1 (80/90) D:\\PrS\\Repo_Sonu\\Assignment\\code\\output_video.avi: 640x640 2 playing_cards, Done. (0.229s)\n",
      "video 1/1 (81/90) D:\\PrS\\Repo_Sonu\\Assignment\\code\\output_video.avi: 640x640 2 playing_cards, Done. (0.245s)\n",
      "video 1/1 (82/90) D:\\PrS\\Repo_Sonu\\Assignment\\code\\output_video.avi: 640x640 1 playing_card, Done. (0.247s)\n",
      "video 1/1 (83/90) D:\\PrS\\Repo_Sonu\\Assignment\\code\\output_video.avi: 640x640 2 playing_cards, Done. (0.217s)\n",
      "video 1/1 (84/90) D:\\PrS\\Repo_Sonu\\Assignment\\code\\output_video.avi: 640x640 2 playing_cards, Done. (0.175s)\n",
      "video 1/1 (85/90) D:\\PrS\\Repo_Sonu\\Assignment\\code\\output_video.avi: 640x640 2 playing_cards, Done. (0.175s)\n",
      "video 1/1 (86/90) D:\\PrS\\Repo_Sonu\\Assignment\\code\\output_video.avi: 640x640 2 playing_cards, Done. (0.194s)\n",
      "video 1/1 (87/90) D:\\PrS\\Repo_Sonu\\Assignment\\code\\output_video.avi: 640x640 2 playing_cards, Done. (0.193s)\n",
      "video 1/1 (88/90) D:\\PrS\\Repo_Sonu\\Assignment\\code\\output_video.avi: 640x640 1 playing_card, Done. (0.170s)\n",
      "video 1/1 (89/90) D:\\PrS\\Repo_Sonu\\Assignment\\code\\output_video.avi: 640x640 2 playing_cards, Done. (0.178s)\n",
      "video 1/1 (90/90) D:\\PrS\\Repo_Sonu\\Assignment\\code\\output_video.avi: 640x640 1 playing_card, Done. (0.170s)\n",
      "Speed: 1.8ms pre-process, 194.9ms inference, 0.6ms NMS per image at shape (1, 3, 640, 640)\n",
      "Results saved to \u001b[1mruns\\detect\\exp2\u001b[0m\n"
     ]
    }
   ],
   "source": [
    "# Infrencing with Video\n",
    "weights_path=\"weights.pt\"\n",
    "source=\"output_video.avi\" # Image or Image Dir or Video Path\n",
    "conf_thres=0.7 # Confidence threshold for filter\n",
    "run(weights_path,source,conf_thres=conf_thres)"
   ]
  },
  {
   "cell_type": "markdown",
   "metadata": {
    "id": "VEPvYmjsQv2b"
   },
   "source": [
    "# **reference**\n",
    "\n",
    "[Data Source](https://www.kaggle.com/datasets/luantm/playing-card)"
   ]
  },
  {
   "cell_type": "code",
   "execution_count": null,
   "metadata": {
    "id": "hFSPppRj2TVL"
   },
   "outputs": [],
   "source": []
  }
 ],
 "metadata": {
  "accelerator": "GPU",
  "colab": {
   "collapsed_sections": [],
   "name": "Playing_card_inference.ipynb",
   "provenance": []
  },
  "kernelspec": {
   "display_name": "Python 3 (ipykernel)",
   "language": "python",
   "name": "python3"
  },
  "language_info": {
   "codemirror_mode": {
    "name": "ipython",
    "version": 3
   },
   "file_extension": ".py",
   "mimetype": "text/x-python",
   "name": "python",
   "nbconvert_exporter": "python",
   "pygments_lexer": "ipython3",
   "version": "3.9.0"
  }
 },
 "nbformat": 4,
 "nbformat_minor": 4
}
